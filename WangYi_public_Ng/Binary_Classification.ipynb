{
 "cells": [
  {
   "cell_type": "markdown",
   "metadata": {},
   "source": [
    "#### Loss (error) function:\n",
    "$$L(\\widehat{y},y)=-(ylog(\\widehat{y})+(1-y)log(1-\\widehat{y}))$$\n",
    "#### Cost function:\n",
    "$$J(w,b)=\\frac{1}{m}\\sum_{i=1}^{m}L(\\widehat{y}^{(i)},y^{(i)})=-\\frac{1}{m}\\sum_{i=1}^{m}[{y}^{(i)}log(\\widehat{y}^{(i)})+(1-{y}^{(i)})log(1-\\widehat{y}^{(i)})]$$\n",
    "#### Gradient Descent:\n",
    "To find w, b that minimize J(w,b), we use gradient descent method:\n"
   ]
  },
  {
   "cell_type": "code",
   "execution_count": null,
   "metadata": {
    "collapsed": true
   },
   "outputs": [],
   "source": []
  }
 ],
 "metadata": {
  "kernelspec": {
   "display_name": "Python 2",
   "language": "python",
   "name": "python2"
  },
  "language_info": {
   "codemirror_mode": {
    "name": "ipython",
    "version": 2
   },
   "file_extension": ".py",
   "mimetype": "text/x-python",
   "name": "python",
   "nbconvert_exporter": "python",
   "pygments_lexer": "ipython2",
   "version": "2.7.13"
  }
 },
 "nbformat": 4,
 "nbformat_minor": 2
}
